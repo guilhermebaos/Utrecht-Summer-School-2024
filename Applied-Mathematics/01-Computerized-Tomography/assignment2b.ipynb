{
  "cells": [
    {
      "cell_type": "markdown",
      "metadata": {
        "id": "XD5aynBoyQM7"
      },
      "source": [
        "The Radon transform is available in Python as `radon` in the `skimage.transform` library. To study the ill-posedness of the inverse problem, we first build an explicit matrix representation of the Radon transform in `getK`.\n",
        "\n",
        "1. Construct the matrix for `nx = 32` and plot the left and right singular vectors and singular values.\n",
        "2. Generate noisy data and apply the regularised pseudo-inverse (`np.linalg.pinv`), selecting an appropriate regularisation parameter for various noise levels\n",
        "3. Explain how regularisation both reduces noise and limits the resolution of the resulting image\n",
        "4. Can you think of a type of noise for which the usual regularisation will not work?"
      ],
      "id": "XD5aynBoyQM7"
    },
    {
      "cell_type": "code",
      "execution_count": null,
      "metadata": {
        "id": "r7eXoY9JyQOC"
      },
      "outputs": [],
      "source": [
        "import numpy as np\n",
        "import matplotlib.pyplot as plt\n",
        "\n",
        "from skimage.transform import radon\n",
        "from skimage.data import binary_blobs\n",
        "from skimage.draw import disk"
      ],
      "id": "r7eXoY9JyQOC"
    },
    {
      "cell_type": "code",
      "execution_count": null,
      "metadata": {
        "id": "1b6fQa5ayQOO"
      },
      "outputs": [],
      "source": [
        "def getK(nx):\n",
        "    \"\"\"\n",
        "    Get explicit matrix representation of the Radon transform for an nx by nx image.\n",
        "\n",
        "    input:\n",
        "        nx - dimension of the input image\n",
        "        theta - array with angles (in degrees)\n",
        "\n",
        "    output:\n",
        "        K - matrix of size nd*nt by nx*nx, with nd = int(np.sqrt(2)*nx)+1\n",
        "    \"\"\"\n",
        "    theta = np.linspace(0,180,nx)\n",
        "    nd = int(np.sqrt(2)*nx)+1\n",
        "    N = nx**2\n",
        "    M = nd*nx\n",
        "    K = np.zeros((M,N))\n",
        "    for i in range(nx**2):\n",
        "        ei = np.zeros(nx**2)\n",
        "        ei[i] = 1\n",
        "        K[:,i] = radon(np.reshape(ei,(nx,nx)), theta=theta, circle = False).ravel()\n",
        "    return K\n",
        "\n",
        "def getPhantom(nx, r = 0.9):\n",
        "    \"\"\"\n",
        "    Define phantom image.\n",
        "\n",
        "    input:\n",
        "        nx - dimension of the input image\n",
        "        r - radius of phantom, optional (default = 0.9)\n",
        "\n",
        "    output:\n",
        "        u - phantom image as 1d array of length nx*nx\n",
        "    \"\"\"\n",
        "    # mask\n",
        "    mask = np.zeros((nx,nx))\n",
        "    ii,jj = disk((nx//2,nx//2),r * (nx//2))\n",
        "    mask[ii,jj] = 1\n",
        "\n",
        "    # binary blobs\n",
        "    u = 0.5 * np.float64(binary_blobs(length=nx, blob_size_fraction=0.5))\n",
        "    u += 0.5 * np.float64(binary_blobs(length=nx, blob_size_fraction=0.2))\n",
        "    u *= mask\n",
        "\n",
        "    # return\n",
        "    return u.ravel()\n",
        "\n",
        "def plot_image(u,nx,ax=[],title=''):\n",
        "    \"\"\"\n",
        "    plot image\n",
        "    \"\"\"\n",
        "    if not ax:\n",
        "        fig, ax = plt.subplots()\n",
        "\n",
        "    ax.imshow(u.reshape((nx,nx)),extent=(0,1,0,1))\n",
        "    ax.set_xlabel(r'$x$')\n",
        "    ax.set_ylabel(r'$y$')\n",
        "    ax.set_title(title)\n",
        "\n",
        "def plot_sinogram(f,nx, ax=[],title=''):\n",
        "    \"\"\"\n",
        "    plot sinogram\n",
        "    \"\"\"\n",
        "    nd = len(f) // nx\n",
        "\n",
        "    if not ax:\n",
        "        fig, ax = plt.subplots()\n",
        "    ax.imshow(f.reshape((nd,nx)),extent=(0,3.14,0,1.5))\n",
        "    ax.set_xlabel(r'$\\theta$')\n",
        "    ax.set_ylabel(r'$s$')\n",
        "    ax.set_aspect(2)\n",
        "    ax.set_title(title)"
      ],
      "id": "1b6fQa5ayQOO"
    },
    {
      "cell_type": "code",
      "execution_count": null,
      "metadata": {
        "id": "9AKZ8XPsyQOR"
      },
      "outputs": [],
      "source": [
        "# settings\n",
        "nx    = 32\n",
        "sigma = 1e-3\n",
        "\n",
        "# get matrix\n",
        "K = getK(nx)\n",
        "\n",
        "# get phantom\n",
        "ut = getPhantom(nx)\n",
        "\n",
        "# generate data\n",
        "f = K@ut + sigma*np.random.randn(K.shape[0])\n",
        "\n",
        "# reconstruct\n",
        "ur = np.linalg.pinv(K, rcond=1e-3)@f"
      ],
      "id": "9AKZ8XPsyQOR"
    },
    {
      "cell_type": "code",
      "execution_count": null,
      "metadata": {
        "id": "ic9DtI3FyQOT",
        "outputId": "8d5b2104-20d6-4737-e62e-e9661f2144c8"
      },
      "outputs": [
        {
          "data": {
            "image/png": "[encoded data removed]",
            "text/plain": [
              "<Figure size 1440x288 with 3 Axes>"
            ]
          },
          "metadata": {
            "needs_background": "light"
          },
          "output_type": "display_data"
        }
      ],
      "source": [
        "fig,ax = plt.subplots(1,3)\n",
        "\n",
        "plot_image(ut,nx,ax=ax[0],title='ground truth')\n",
        "plot_sinogram(f,nx,ax=ax[1], title='sinogram')\n",
        "plot_image(ur,nx,ax=ax[2],title='reconstruction')\n",
        "\n",
        "fig.tight_layout()\n",
        "fig.set_figwidth(20)"
      ],
      "id": "ic9DtI3FyQOT"
    }
  ],
  "metadata": {
    "kernelspec": {
      "display_name": "Python 3",
      "language": "python",
      "name": "python3"
    },
    "language_info": {
      "codemirror_mode": {
        "name": "ipython",
        "version": 3
      },
      "file_extension": ".py",
      "mimetype": "text/x-python",
      "name": "python",
      "nbconvert_exporter": "python",
      "pygments_lexer": "ipython3",
      "version": "3.8.5"
    },
    "colab": {
      "provenance": []
    }
  },
  "nbformat": 4,
  "nbformat_minor": 5
}