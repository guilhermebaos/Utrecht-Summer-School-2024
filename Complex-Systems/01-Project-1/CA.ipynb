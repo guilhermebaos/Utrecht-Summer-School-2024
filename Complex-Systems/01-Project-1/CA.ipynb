{
 "cells": [
  {
   "cell_type": "markdown",
   "metadata": {},
   "source": [
    "<h1> Utrecht Summer School 'Introduction to Complex Systems' </h1>\n",
    "<h2> Day 2. Project Cellular Automata </h2>\n",
    "\n",
    "This Jupyter notebook contains the parameters that can be changed. It calls the function that will perform the simulation, computation and visualisation. Only this notebook needs to be amended."
   ]
  },
  {
   "cell_type": "markdown",
   "metadata": {},
   "source": [
    "<h3> Dependencies </h3>\n",
    "\n",
    "The codes used in this project depend on complementary Python files. Specificially, the following packages need to be installed.\n",
    "<h4> Packages needed </h4>\n",
    "<ul>\n",
    "    <li> numpy </li>\n",
    "    <li> matplotlib </li>\n",
    "    <li> IPython </li>\n",
    "</ul>"
   ]
  },
  {
   "cell_type": "markdown",
   "metadata": {},
   "source": [
    "<h1> Import the python codes </h1>"
   ]
  },
  {
   "cell_type": "code",
   "execution_count": 34,
   "metadata": {},
   "outputs": [
    {
     "name": "stderr",
     "output_type": "stream",
     "text": [
      "C:\\Users\\guilh\\AppData\\Local\\Temp\\ipykernel_15556\\411032274.py:16: DeprecationWarning: Importing display from IPython.core.display is deprecated since IPython 7.14, please import from IPython display\n",
      "  from IPython.core.display import display, HTML\n"
     ]
    },
    {
     "data": {
      "text/html": [
       "<style>div.output_scroll { height: 44em; }</style>"
      ],
      "text/plain": [
       "<IPython.core.display.HTML object>"
      ]
     },
     "metadata": {},
     "output_type": "display_data"
    }
   ],
   "source": [
    "## DO NOT CHANGE THIS\n",
    "%matplotlib inline\n",
    "\n",
    "from CA_functions import CA_simulator\n",
    "\n",
    "import numpy as np\n",
    "\n",
    "import matplotlib.pyplot as plt\n",
    "import matplotlib.pylab as plb\n",
    "from matplotlib import animation\n",
    "from matplotlib.animation import PillowWriter\n",
    "\n",
    "from PIL import Image\n",
    "from typing import Callable\n",
    "\n",
    "from IPython.core.display import display, HTML\n",
    "display(HTML(\"<style>div.output_scroll { height: 44em; }</style>\"))"
   ]
  },
  {
   "cell_type": "markdown",
   "metadata": {},
   "source": [
    "<h1> Parameters </h1>"
   ]
  },
  {
   "cell_type": "code",
   "execution_count": 35,
   "metadata": {},
   "outputs": [],
   "source": [
    "# Parameters are packed into a class for easy passing of all parameter values to the simulator function\n",
    "\n",
    "class Parameters:\n",
    "    ## GENERAL PARAMETERS\n",
    "    \n",
    "    # domain size\n",
    "    M = 50 # x-direction\n",
    "    N = 50 # y-direction\n",
    "    \n",
    "    # initial conditions\n",
    "    p = 0.5 # fraction of initial cells that are in the 1-state\n",
    "    \n",
    "    # scale-dependent activator-inhibitor parameters\n",
    "    R_a = 5 #5 # activator radius\n",
    "    R_i = 10 #10 # inhibitor radius\n",
    "    w_a = 0.3 #0.3 # activator strength\n",
    "    w_i = 0.1 #0.1 # inhibitor strength\n",
    "    \n",
    "# Finally, we create one instance of this class that now contains all parameters\n",
    "par = Parameters"
   ]
  },
  {
   "cell_type": "code",
   "execution_count": 36,
   "metadata": {},
   "outputs": [],
   "source": [
    "## Declaration of the CA evolution rule\n",
    "def CA_evolution(i, j, A, N_a, N_i, w_a, w_i):\n",
    "    # Input:\n",
    "    # i: x-coordinate of the cell under consideration\n",
    "    # j: y-coordinate of the cell under consideration\n",
    "    # A: current state of the lattice\n",
    "    # N_a: list of cells within activator range\n",
    "    # N_i: list of cells within inhibitor range\n",
    "    # w_a: strength of activator\n",
    "    # w_i: strength of inhibitor\n",
    "    \n",
    "    # The total impact on the current strength is the amount of cells within activator range that are \n",
    "    # currently in the 1 state times the activator strength w_a, minus the amount of cells within inhibitor \n",
    "    # range that are currently in the 1 state times the inhibitor strength w_i.\n",
    "    s = np.sum( A[N_a] * w_a ) - np.sum( A[N_i] * w_i)\n",
    "    \n",
    "    # If the total impact on the current cell is positive, it will be in the 1 state in the next time step;\n",
    "    # otherwise, it will be in the 0 state\n",
    "    aij_next = int(s > 0)\n",
    "    return aij_next"
   ]
  },
  {
   "cell_type": "markdown",
   "metadata": {},
   "source": [
    "<h1> Simulation Settings </h1>"
   ]
  },
  {
   "cell_type": "code",
   "execution_count": 37,
   "metadata": {},
   "outputs": [],
   "source": [
    "# Simulation settings are packed into a class for easy passing of all settings to the simulator function\n",
    "\n",
    "class SimSettings:        \n",
    "    timesteps = 100 # how many timesteps\n",
    "    plot_interval = 1 # Output a new figure every so many time steps\n",
    "    \n",
    "# Finally, we create one instance of this class that now contains all settings\n",
    "sim_set = SimSettings\n",
    "\n",
    "# Save the plot interval\n",
    "dt = sim_set.plot_interval\n",
    "frames = sim_set.timesteps // dt"
   ]
  },
  {
   "cell_type": "markdown",
   "metadata": {},
   "source": [
    "<h1> Actual Simulation </h1>"
   ]
  },
  {
   "cell_type": "code",
   "execution_count": 38,
   "metadata": {},
   "outputs": [],
   "source": [
    "# The function is given all parameters as input\n",
    "# The output is a snapshots of some of the states of the system\n",
    "Atotal = CA_simulator(par, sim_set, CA_evolution)"
   ]
  },
  {
   "cell_type": "markdown",
   "metadata": {},
   "source": [
    "## Final Result"
   ]
  },
  {
   "cell_type": "code",
   "execution_count": 41,
   "metadata": {},
   "outputs": [
    {
     "data": {
      "image/png": "[encoded data removed]",
      "text/plain": [
       "<Figure size 640x480 with 2 Axes>"
      ]
     },
     "metadata": {},
     "output_type": "display_data"
    }
   ],
   "source": [
    "step = 0\n",
    "\n",
    "plt.imshow(Atotal[step], cmap=\"Greys\")\n",
    "plt.colorbar()\n",
    "plt.title(f\"Time Step: {step}\")\n",
    "plt.xlabel('Position')\n",
    "plt.ylabel('Position')\n",
    "plt.show()"
   ]
  },
  {
   "cell_type": "markdown",
   "metadata": {},
   "source": [
    "## Making Video"
   ]
  },
  {
   "cell_type": "code",
   "execution_count": 40,
   "metadata": {},
   "outputs": [
    {
     "data": {
      "image/png": "[encoded data removed]",
      "text/plain": [
       "<Figure size 640x480 with 2 Axes>"
      ]
     },
     "metadata": {},
     "output_type": "display_data"
    }
   ],
   "source": [
    "# Make into video\n",
    "fig, ax = plt.subplots()\n",
    "plt.title(f\"Time Step: 0\")\n",
    "plt.xlabel('Position')\n",
    "plt.ylabel('Position')\n",
    "\n",
    "# First frame\n",
    "im = ax.imshow(Atotal[0], cmap=\"Greys\")\n",
    "plt.colorbar(im)\n",
    "\n",
    "# Update the frame\n",
    "def update(frame):\n",
    "    global dt\n",
    "\n",
    "    # Timestep\n",
    "    tempo = int(dt * frame)\n",
    "    plt.title(f\"Time Step: {tempo}\")\n",
    "\n",
    "    # Atualizar os dados na imagem\n",
    "    im.set_array(Atotal[frame])\n",
    "    return im\n",
    "\n",
    "# Guardar o vídeo\n",
    "ani = animation.FuncAnimation(fig, update, frames=frames, interval=100)\n",
    "ani.save('cellular-start.gif', writer=\"pillow\")"
   ]
  },
  {
   "cell_type": "code",
   "execution_count": null,
   "metadata": {},
   "outputs": [],
   "source": []
  }
 ],
 "metadata": {
  "kernelspec": {
   "display_name": "Python 3 (ipykernel)",
   "language": "python",
   "name": "python3"
  },
  "language_info": {
   "codemirror_mode": {
    "name": "ipython",
    "version": 3
   },
   "file_extension": ".py",
   "mimetype": "text/x-python",
   "name": "python",
   "nbconvert_exporter": "python",
   "pygments_lexer": "ipython3",
   "version": "3.12.0"
  }
 },
 "nbformat": 4,
 "nbformat_minor": 4
}
